{
  "cells": [
    {
      "metadata": {},
      "cell_type": "markdown",
      "source": "# PREDICT THE BURNED AREA OF FOREST FIRES WITH NEURAL NETWORKS"
    },
    {
      "metadata": {
        "trusted": true
      },
      "cell_type": "code",
      "source": "!pip install keras\n!pip install tensorflow",
      "execution_count": 1,
      "outputs": [
        {
          "output_type": "stream",
          "text": "Requirement already satisfied: keras in c:\\users\\91966\\anaconda3\\lib\\site-packages (2.4.3)\nRequirement already satisfied: scipy>=0.14 in c:\\users\\91966\\anaconda3\\lib\\site-packages (from keras) (1.5.2)\nRequirement already satisfied: pyyaml in c:\\users\\91966\\anaconda3\\lib\\site-packages (from keras) (5.3.1)\nRequirement already satisfied: numpy>=1.9.1 in c:\\users\\91966\\anaconda3\\lib\\site-packages (from keras) (1.19.2)\nRequirement already satisfied: h5py in c:\\users\\91966\\anaconda3\\lib\\site-packages (from keras) (2.10.0)\nRequirement already satisfied: six in c:\\users\\91966\\anaconda3\\lib\\site-packages (from h5py->keras) (1.15.0)\nCollecting tensorflow\n  Downloading tensorflow-2.4.1-cp38-cp38-win_amd64.whl (370.7 MB)\nRequirement already satisfied: h5py~=2.10.0 in c:\\users\\91966\\anaconda3\\lib\\site-packages (from tensorflow) (2.10.0)\nCollecting opt-einsum~=3.3.0\n  Downloading opt_einsum-3.3.0-py3-none-any.whl (65 kB)\nCollecting termcolor~=1.1.0\n  Downloading termcolor-1.1.0.tar.gz (3.9 kB)\nRequirement already satisfied: typing-extensions~=3.7.4 in c:\\users\\91966\\anaconda3\\lib\\site-packages (from tensorflow) (3.7.4.3)\nCollecting wrapt~=1.12.1\n  Downloading wrapt-1.12.1.tar.gz (27 kB)\nCollecting google-pasta~=0.2\n  Downloading google_pasta-0.2.0-py3-none-any.whl (57 kB)\nCollecting gast==0.3.3\n  Downloading gast-0.3.3-py2.py3-none-any.whl (9.7 kB)\nRequirement already satisfied: numpy~=1.19.2 in c:\\users\\91966\\anaconda3\\lib\\site-packages (from tensorflow) (1.19.2)\nRequirement already satisfied: wheel~=0.35 in c:\\users\\91966\\anaconda3\\lib\\site-packages (from tensorflow) (0.35.1)\nCollecting astunparse~=1.6.3\n  Downloading astunparse-1.6.3-py2.py3-none-any.whl (12 kB)\nCollecting keras-preprocessing~=1.1.2\n  Downloading Keras_Preprocessing-1.1.2-py2.py3-none-any.whl (42 kB)\nCollecting tensorflow-estimator<2.5.0,>=2.4.0\n  Downloading tensorflow_estimator-2.4.0-py2.py3-none-any.whl (462 kB)\nRequirement already satisfied: six~=1.15.0 in c:\\users\\91966\\anaconda3\\lib\\site-packages (from tensorflow) (1.15.0)\nCollecting grpcio~=1.32.0\n  Downloading grpcio-1.32.0-cp38-cp38-win_amd64.whl (2.6 MB)\nCollecting protobuf>=3.9.2\n  Downloading protobuf-3.15.8-py2.py3-none-any.whl (173 kB)\nCollecting absl-py~=0.10\n  Downloading absl_py-0.12.0-py3-none-any.whl (129 kB)\nCollecting flatbuffers~=1.12.0\n  Downloading flatbuffers-1.12-py2.py3-none-any.whl (15 kB)\nCollecting tensorboard~=2.4\n  Downloading tensorboard-2.5.0-py3-none-any.whl (6.0 MB)\nCollecting markdown>=2.6.8\n  Downloading Markdown-3.3.4-py3-none-any.whl (97 kB)\nCollecting tensorboard-data-server<0.7.0,>=0.6.0\n  Downloading tensorboard_data_server-0.6.0-py3-none-any.whl (2.3 kB)\nCollecting google-auth<2,>=1.6.3\n  Downloading google_auth-1.29.0-py2.py3-none-any.whl (142 kB)\nCollecting tensorboard-plugin-wit>=1.6.0\n  Downloading tensorboard_plugin_wit-1.8.0-py3-none-any.whl (781 kB)\nRequirement already satisfied: requests<3,>=2.21.0 in c:\\users\\91966\\anaconda3\\lib\\site-packages (from tensorboard~=2.4->tensorflow) (2.24.0)\nRequirement already satisfied: setuptools>=41.0.0 in c:\\users\\91966\\anaconda3\\lib\\site-packages (from tensorboard~=2.4->tensorflow) (50.3.1.post20201107)\nRequirement already satisfied: werkzeug>=0.11.15 in c:\\users\\91966\\anaconda3\\lib\\site-packages (from tensorboard~=2.4->tensorflow) (1.0.1)\nCollecting google-auth-oauthlib<0.5,>=0.4.1\n  Downloading google_auth_oauthlib-0.4.4-py2.py3-none-any.whl (18 kB)\nCollecting pyasn1-modules>=0.2.1\n  Downloading pyasn1_modules-0.2.8-py2.py3-none-any.whl (155 kB)\nCollecting rsa<5,>=3.1.4; python_version >= \"3.6\"\n  Downloading rsa-4.7.2-py3-none-any.whl (34 kB)\nCollecting cachetools<5.0,>=2.0.0\n  Downloading cachetools-4.2.1-py3-none-any.whl (12 kB)\nRequirement already satisfied: urllib3!=1.25.0,!=1.25.1,<1.26,>=1.21.1 in c:\\users\\91966\\anaconda3\\lib\\site-packages (from requests<3,>=2.21.0->tensorboard~=2.4->tensorflow) (1.25.11)\nRequirement already satisfied: chardet<4,>=3.0.2 in c:\\users\\91966\\anaconda3\\lib\\site-packages (from requests<3,>=2.21.0->tensorboard~=2.4->tensorflow) (3.0.4)\nRequirement already satisfied: idna<3,>=2.5 in c:\\users\\91966\\anaconda3\\lib\\site-packages (from requests<3,>=2.21.0->tensorboard~=2.4->tensorflow) (2.10)\nRequirement already satisfied: certifi>=2017.4.17 in c:\\users\\91966\\anaconda3\\lib\\site-packages (from requests<3,>=2.21.0->tensorboard~=2.4->tensorflow) (2020.6.20)\nCollecting requests-oauthlib>=0.7.0\n  Downloading requests_oauthlib-1.3.0-py2.py3-none-any.whl (23 kB)\nCollecting pyasn1<0.5.0,>=0.4.6\n  Downloading pyasn1-0.4.8-py2.py3-none-any.whl (77 kB)\nCollecting oauthlib>=3.0.0\n  Downloading oauthlib-3.1.0-py2.py3-none-any.whl (147 kB)\nBuilding wheels for collected packages: termcolor, wrapt\n  Building wheel for termcolor (setup.py): started\n  Building wheel for termcolor (setup.py): finished with status 'done'\n  Created wheel for termcolor: filename=termcolor-1.1.0-py3-none-any.whl size=4835 sha256=eefdd2d83bca87f0777991b11511a3d1d87bebff4979ec81ca2d988d1677bf31\n  Stored in directory: c:\\users\\91966\\appdata\\local\\pip\\cache\\wheels\\a0\\16\\9c\\5473df82468f958445479c59e784896fa24f4a5fc024b0f501\n  Building wheel for wrapt (setup.py): started\n  Building wheel for wrapt (setup.py): finished with status 'done'\n  Created wheel for wrapt: filename=wrapt-1.12.1-py3-none-any.whl size=19558 sha256=8e30b276a52b5104530d366e4693bb08f4aac073213a885344c76fe1829374ee\n  Stored in directory: c:\\users\\91966\\appdata\\local\\pip\\cache\\wheels\\5f\\fd\\9e\\b6cf5890494cb8ef0b5eaff72e5d55a70fb56316007d6dfe73\nSuccessfully built termcolor wrapt\nInstalling collected packages: opt-einsum, termcolor, wrapt, google-pasta, gast, astunparse, keras-preprocessing, tensorflow-estimator, grpcio, protobuf, absl-py, flatbuffers, markdown, tensorboard-data-server, pyasn1, pyasn1-modules, rsa, cachetools, google-auth, tensorboard-plugin-wit, oauthlib, requests-oauthlib, google-auth-oauthlib, tensorboard, tensorflow\n  Attempting uninstall: wrapt\n    Found existing installation: wrapt 1.11.2\n    Uninstalling wrapt-1.11.2:\n      Successfully uninstalled wrapt-1.11.2\nSuccessfully installed absl-py-0.12.0 astunparse-1.6.3 cachetools-4.2.1 flatbuffers-1.12 gast-0.3.3 google-auth-1.29.0 google-auth-oauthlib-0.4.4 google-pasta-0.2.0 grpcio-1.32.0 keras-preprocessing-1.1.2 markdown-3.3.4 oauthlib-3.1.0 opt-einsum-3.3.0 protobuf-3.15.8 pyasn1-0.4.8 pyasn1-modules-0.2.8 requests-oauthlib-1.3.0 rsa-4.7.2 tensorboard-2.5.0 tensorboard-data-server-0.6.0 tensorboard-plugin-wit-1.8.0 tensorflow-2.4.1 tensorflow-estimator-2.4.0 termcolor-1.1.0 wrapt-1.12.1\n",
          "name": "stdout"
        }
      ]
    },
    {
      "metadata": {
        "trusted": true
      },
      "cell_type": "code",
      "source": "import pandas as pd\nimport numpy as np\nimport keras\nfrom sklearn.preprocessing import StandardScaler",
      "execution_count": 2,
      "outputs": []
    },
    {
      "metadata": {
        "trusted": true
      },
      "cell_type": "code",
      "source": "df=pd.read_csv('forestfires.csv')",
      "execution_count": 3,
      "outputs": []
    },
    {
      "metadata": {
        "trusted": true
      },
      "cell_type": "code",
      "source": "df",
      "execution_count": 4,
      "outputs": [
        {
          "output_type": "execute_result",
          "execution_count": 4,
          "data": {
            "text/plain": "    month  day  FFMC    DMC     DC   ISI  temp  RH  wind  rain  ...  monthfeb  \\\n0     mar  fri  86.2   26.2   94.3   5.1   8.2  51   6.7   0.0  ...         0   \n1     oct  tue  90.6   35.4  669.1   6.7  18.0  33   0.9   0.0  ...         0   \n2     oct  sat  90.6   43.7  686.9   6.7  14.6  33   1.3   0.0  ...         0   \n3     mar  fri  91.7   33.3   77.5   9.0   8.3  97   4.0   0.2  ...         0   \n4     mar  sun  89.3   51.3  102.2   9.6  11.4  99   1.8   0.0  ...         0   \n..    ...  ...   ...    ...    ...   ...   ...  ..   ...   ...  ...       ...   \n512   aug  sun  81.6   56.7  665.6   1.9  27.8  32   2.7   0.0  ...         0   \n513   aug  sun  81.6   56.7  665.6   1.9  21.9  71   5.8   0.0  ...         0   \n514   aug  sun  81.6   56.7  665.6   1.9  21.2  70   6.7   0.0  ...         0   \n515   aug  sat  94.4  146.0  614.7  11.3  25.6  42   4.0   0.0  ...         0   \n516   nov  tue  79.5    3.0  106.7   1.1  11.8  31   4.5   0.0  ...         0   \n\n     monthjan  monthjul  monthjun  monthmar  monthmay  monthnov  monthoct  \\\n0           0         0         0         1         0         0         0   \n1           0         0         0         0         0         0         1   \n2           0         0         0         0         0         0         1   \n3           0         0         0         1         0         0         0   \n4           0         0         0         1         0         0         0   \n..        ...       ...       ...       ...       ...       ...       ...   \n512         0         0         0         0         0         0         0   \n513         0         0         0         0         0         0         0   \n514         0         0         0         0         0         0         0   \n515         0         0         0         0         0         0         0   \n516         0         0         0         0         0         1         0   \n\n     monthsep  size_category  \n0           0          small  \n1           0          small  \n2           0          small  \n3           0          small  \n4           0          small  \n..        ...            ...  \n512         0          large  \n513         0          large  \n514         0          large  \n515         0          small  \n516         0          small  \n\n[517 rows x 31 columns]",
            "text/html": "<div>\n<style scoped>\n    .dataframe tbody tr th:only-of-type {\n        vertical-align: middle;\n    }\n\n    .dataframe tbody tr th {\n        vertical-align: top;\n    }\n\n    .dataframe thead th {\n        text-align: right;\n    }\n</style>\n<table border=\"1\" class=\"dataframe\">\n  <thead>\n    <tr style=\"text-align: right;\">\n      <th></th>\n      <th>month</th>\n      <th>day</th>\n      <th>FFMC</th>\n      <th>DMC</th>\n      <th>DC</th>\n      <th>ISI</th>\n      <th>temp</th>\n      <th>RH</th>\n      <th>wind</th>\n      <th>rain</th>\n      <th>...</th>\n      <th>monthfeb</th>\n      <th>monthjan</th>\n      <th>monthjul</th>\n      <th>monthjun</th>\n      <th>monthmar</th>\n      <th>monthmay</th>\n      <th>monthnov</th>\n      <th>monthoct</th>\n      <th>monthsep</th>\n      <th>size_category</th>\n    </tr>\n  </thead>\n  <tbody>\n    <tr>\n      <th>0</th>\n      <td>mar</td>\n      <td>fri</td>\n      <td>86.2</td>\n      <td>26.2</td>\n      <td>94.3</td>\n      <td>5.1</td>\n      <td>8.2</td>\n      <td>51</td>\n      <td>6.7</td>\n      <td>0.0</td>\n      <td>...</td>\n      <td>0</td>\n      <td>0</td>\n      <td>0</td>\n      <td>0</td>\n      <td>1</td>\n      <td>0</td>\n      <td>0</td>\n      <td>0</td>\n      <td>0</td>\n      <td>small</td>\n    </tr>\n    <tr>\n      <th>1</th>\n      <td>oct</td>\n      <td>tue</td>\n      <td>90.6</td>\n      <td>35.4</td>\n      <td>669.1</td>\n      <td>6.7</td>\n      <td>18.0</td>\n      <td>33</td>\n      <td>0.9</td>\n      <td>0.0</td>\n      <td>...</td>\n      <td>0</td>\n      <td>0</td>\n      <td>0</td>\n      <td>0</td>\n      <td>0</td>\n      <td>0</td>\n      <td>0</td>\n      <td>1</td>\n      <td>0</td>\n      <td>small</td>\n    </tr>\n    <tr>\n      <th>2</th>\n      <td>oct</td>\n      <td>sat</td>\n      <td>90.6</td>\n      <td>43.7</td>\n      <td>686.9</td>\n      <td>6.7</td>\n      <td>14.6</td>\n      <td>33</td>\n      <td>1.3</td>\n      <td>0.0</td>\n      <td>...</td>\n      <td>0</td>\n      <td>0</td>\n      <td>0</td>\n      <td>0</td>\n      <td>0</td>\n      <td>0</td>\n      <td>0</td>\n      <td>1</td>\n      <td>0</td>\n      <td>small</td>\n    </tr>\n    <tr>\n      <th>3</th>\n      <td>mar</td>\n      <td>fri</td>\n      <td>91.7</td>\n      <td>33.3</td>\n      <td>77.5</td>\n      <td>9.0</td>\n      <td>8.3</td>\n      <td>97</td>\n      <td>4.0</td>\n      <td>0.2</td>\n      <td>...</td>\n      <td>0</td>\n      <td>0</td>\n      <td>0</td>\n      <td>0</td>\n      <td>1</td>\n      <td>0</td>\n      <td>0</td>\n      <td>0</td>\n      <td>0</td>\n      <td>small</td>\n    </tr>\n    <tr>\n      <th>4</th>\n      <td>mar</td>\n      <td>sun</td>\n      <td>89.3</td>\n      <td>51.3</td>\n      <td>102.2</td>\n      <td>9.6</td>\n      <td>11.4</td>\n      <td>99</td>\n      <td>1.8</td>\n      <td>0.0</td>\n      <td>...</td>\n      <td>0</td>\n      <td>0</td>\n      <td>0</td>\n      <td>0</td>\n      <td>1</td>\n      <td>0</td>\n      <td>0</td>\n      <td>0</td>\n      <td>0</td>\n      <td>small</td>\n    </tr>\n    <tr>\n      <th>...</th>\n      <td>...</td>\n      <td>...</td>\n      <td>...</td>\n      <td>...</td>\n      <td>...</td>\n      <td>...</td>\n      <td>...</td>\n      <td>...</td>\n      <td>...</td>\n      <td>...</td>\n      <td>...</td>\n      <td>...</td>\n      <td>...</td>\n      <td>...</td>\n      <td>...</td>\n      <td>...</td>\n      <td>...</td>\n      <td>...</td>\n      <td>...</td>\n      <td>...</td>\n      <td>...</td>\n    </tr>\n    <tr>\n      <th>512</th>\n      <td>aug</td>\n      <td>sun</td>\n      <td>81.6</td>\n      <td>56.7</td>\n      <td>665.6</td>\n      <td>1.9</td>\n      <td>27.8</td>\n      <td>32</td>\n      <td>2.7</td>\n      <td>0.0</td>\n      <td>...</td>\n      <td>0</td>\n      <td>0</td>\n      <td>0</td>\n      <td>0</td>\n      <td>0</td>\n      <td>0</td>\n      <td>0</td>\n      <td>0</td>\n      <td>0</td>\n      <td>large</td>\n    </tr>\n    <tr>\n      <th>513</th>\n      <td>aug</td>\n      <td>sun</td>\n      <td>81.6</td>\n      <td>56.7</td>\n      <td>665.6</td>\n      <td>1.9</td>\n      <td>21.9</td>\n      <td>71</td>\n      <td>5.8</td>\n      <td>0.0</td>\n      <td>...</td>\n      <td>0</td>\n      <td>0</td>\n      <td>0</td>\n      <td>0</td>\n      <td>0</td>\n      <td>0</td>\n      <td>0</td>\n      <td>0</td>\n      <td>0</td>\n      <td>large</td>\n    </tr>\n    <tr>\n      <th>514</th>\n      <td>aug</td>\n      <td>sun</td>\n      <td>81.6</td>\n      <td>56.7</td>\n      <td>665.6</td>\n      <td>1.9</td>\n      <td>21.2</td>\n      <td>70</td>\n      <td>6.7</td>\n      <td>0.0</td>\n      <td>...</td>\n      <td>0</td>\n      <td>0</td>\n      <td>0</td>\n      <td>0</td>\n      <td>0</td>\n      <td>0</td>\n      <td>0</td>\n      <td>0</td>\n      <td>0</td>\n      <td>large</td>\n    </tr>\n    <tr>\n      <th>515</th>\n      <td>aug</td>\n      <td>sat</td>\n      <td>94.4</td>\n      <td>146.0</td>\n      <td>614.7</td>\n      <td>11.3</td>\n      <td>25.6</td>\n      <td>42</td>\n      <td>4.0</td>\n      <td>0.0</td>\n      <td>...</td>\n      <td>0</td>\n      <td>0</td>\n      <td>0</td>\n      <td>0</td>\n      <td>0</td>\n      <td>0</td>\n      <td>0</td>\n      <td>0</td>\n      <td>0</td>\n      <td>small</td>\n    </tr>\n    <tr>\n      <th>516</th>\n      <td>nov</td>\n      <td>tue</td>\n      <td>79.5</td>\n      <td>3.0</td>\n      <td>106.7</td>\n      <td>1.1</td>\n      <td>11.8</td>\n      <td>31</td>\n      <td>4.5</td>\n      <td>0.0</td>\n      <td>...</td>\n      <td>0</td>\n      <td>0</td>\n      <td>0</td>\n      <td>0</td>\n      <td>0</td>\n      <td>0</td>\n      <td>1</td>\n      <td>0</td>\n      <td>0</td>\n      <td>small</td>\n    </tr>\n  </tbody>\n</table>\n<p>517 rows × 31 columns</p>\n</div>"
          },
          "metadata": {}
        }
      ]
    },
    {
      "metadata": {
        "trusted": true
      },
      "cell_type": "code",
      "source": "df1=df.drop(['month','day'],axis=1)",
      "execution_count": 5,
      "outputs": []
    },
    {
      "metadata": {
        "trusted": true
      },
      "cell_type": "code",
      "source": "from sklearn.preprocessing import LabelEncoder",
      "execution_count": 6,
      "outputs": []
    },
    {
      "metadata": {
        "trusted": true
      },
      "cell_type": "code",
      "source": "lb=LabelEncoder()",
      "execution_count": 7,
      "outputs": []
    },
    {
      "metadata": {
        "trusted": true
      },
      "cell_type": "code",
      "source": "df1['size_category']=lb.fit_transform(df1['size_category'])",
      "execution_count": 8,
      "outputs": []
    },
    {
      "metadata": {
        "trusted": true
      },
      "cell_type": "code",
      "source": "df2=df1.values\ndf2.shape",
      "execution_count": 9,
      "outputs": [
        {
          "output_type": "execute_result",
          "execution_count": 9,
          "data": {
            "text/plain": "(517, 29)"
          },
          "metadata": {}
        }
      ]
    },
    {
      "metadata": {
        "trusted": true
      },
      "cell_type": "code",
      "source": "x=df2[:,0:28]\ny=df2[:,-1]\nx.shape",
      "execution_count": 10,
      "outputs": [
        {
          "output_type": "execute_result",
          "execution_count": 10,
          "data": {
            "text/plain": "(517, 28)"
          },
          "metadata": {}
        }
      ]
    },
    {
      "metadata": {
        "trusted": true
      },
      "cell_type": "code",
      "source": "from sklearn.model_selection import GridSearchCV, KFold\nfrom keras.models import Sequential\nfrom keras.layers import Dense\nfrom keras.wrappers.scikit_learn import KerasClassifier\nfrom keras.optimizers import Adam",
      "execution_count": 11,
      "outputs": []
    },
    {
      "metadata": {
        "trusted": true
      },
      "cell_type": "code",
      "source": "model = Sequential()\nmodel.add(Dense(12, input_dim=28, activation='relu'))\nmodel.add(Dense(28, activation='relu'))\nmodel.add(Dense(1, activation='sigmoid'))",
      "execution_count": 12,
      "outputs": []
    },
    {
      "metadata": {
        "trusted": true
      },
      "cell_type": "code",
      "source": "model.compile(loss='binary_crossentropy', optimizer='Adam', metrics=['accuracy'])",
      "execution_count": 13,
      "outputs": []
    },
    {
      "metadata": {
        "trusted": true
      },
      "cell_type": "code",
      "source": "model.fit(x, y, validation_split=0.33,epochs=100, batch_size=5)",
      "execution_count": 14,
      "outputs": [
        {
          "output_type": "stream",
          "text": "Epoch 1/100\n70/70 [==============================] - 3s 36ms/step - loss: 8.3060 - accuracy: 0.7304 - val_loss: 0.9324 - val_accuracy: 0.6316\nEpoch 2/100\n70/70 [==============================] - 0s 2ms/step - loss: 0.8017 - accuracy: 0.7104 - val_loss: 0.7408 - val_accuracy: 0.7485\nEpoch 3/100\n70/70 [==============================] - 0s 2ms/step - loss: 0.6512 - accuracy: 0.7408 - val_loss: 0.6563 - val_accuracy: 0.7368\nEpoch 4/100\n70/70 [==============================] - 0s 2ms/step - loss: 0.7592 - accuracy: 0.6991 - val_loss: 0.9453 - val_accuracy: 0.7076\nEpoch 5/100\n70/70 [==============================] - 0s 2ms/step - loss: 0.5993 - accuracy: 0.7585 - val_loss: 0.6353 - val_accuracy: 0.6550\nEpoch 6/100\n70/70 [==============================] - 0s 2ms/step - loss: 0.5255 - accuracy: 0.8133 - val_loss: 0.5769 - val_accuracy: 0.7602\nEpoch 7/100\n70/70 [==============================] - 0s 2ms/step - loss: 0.4688 - accuracy: 0.8128 - val_loss: 0.5626 - val_accuracy: 0.7661\nEpoch 8/100\n70/70 [==============================] - 0s 2ms/step - loss: 0.4116 - accuracy: 0.8241 - val_loss: 0.4713 - val_accuracy: 0.7953\nEpoch 9/100\n70/70 [==============================] - 0s 2ms/step - loss: 0.4413 - accuracy: 0.8291 - val_loss: 0.6705 - val_accuracy: 0.7661\nEpoch 10/100\n70/70 [==============================] - 0s 2ms/step - loss: 0.5457 - accuracy: 0.7223 - val_loss: 0.6179 - val_accuracy: 0.7719\nEpoch 11/100\n70/70 [==============================] - 0s 2ms/step - loss: 0.4357 - accuracy: 0.8460 - val_loss: 0.4634 - val_accuracy: 0.7544\nEpoch 12/100\n70/70 [==============================] - 0s 2ms/step - loss: 0.3211 - accuracy: 0.8717 - val_loss: 0.4368 - val_accuracy: 0.8129\nEpoch 13/100\n70/70 [==============================] - 0s 2ms/step - loss: 0.2906 - accuracy: 0.8779 - val_loss: 0.3815 - val_accuracy: 0.8304\nEpoch 14/100\n70/70 [==============================] - 0s 2ms/step - loss: 0.2358 - accuracy: 0.9129 - val_loss: 0.7455 - val_accuracy: 0.7953\nEpoch 15/100\n70/70 [==============================] - 0s 2ms/step - loss: 0.3487 - accuracy: 0.8704 - val_loss: 0.3543 - val_accuracy: 0.8304\nEpoch 16/100\n70/70 [==============================] - 0s 2ms/step - loss: 0.2285 - accuracy: 0.9177 - val_loss: 1.0558 - val_accuracy: 0.7836\nEpoch 17/100\n70/70 [==============================] - 0s 2ms/step - loss: 0.3862 - accuracy: 0.8686 - val_loss: 0.2641 - val_accuracy: 0.9123\nEpoch 18/100\n70/70 [==============================] - 0s 2ms/step - loss: 0.1643 - accuracy: 0.9525 - val_loss: 0.2699 - val_accuracy: 0.8713\nEpoch 19/100\n70/70 [==============================] - 0s 2ms/step - loss: 0.1550 - accuracy: 0.9543 - val_loss: 0.2781 - val_accuracy: 0.8655\nEpoch 20/100\n70/70 [==============================] - 0s 2ms/step - loss: 0.1272 - accuracy: 0.9557 - val_loss: 0.2193 - val_accuracy: 0.9006\nEpoch 21/100\n70/70 [==============================] - 0s 2ms/step - loss: 0.1302 - accuracy: 0.9705 - val_loss: 0.2898 - val_accuracy: 0.8655\nEpoch 22/100\n70/70 [==============================] - 0s 3ms/step - loss: 0.1044 - accuracy: 0.9602 - val_loss: 0.2226 - val_accuracy: 0.9298\nEpoch 23/100\n70/70 [==============================] - 0s 2ms/step - loss: 0.1210 - accuracy: 0.9668 - val_loss: 0.3675 - val_accuracy: 0.8480\nEpoch 24/100\n70/70 [==============================] - 0s 2ms/step - loss: 0.1155 - accuracy: 0.9551 - val_loss: 0.2560 - val_accuracy: 0.8772\nEpoch 25/100\n70/70 [==============================] - 0s 2ms/step - loss: 0.1661 - accuracy: 0.9415 - val_loss: 0.1711 - val_accuracy: 0.9298\nEpoch 26/100\n70/70 [==============================] - 0s 2ms/step - loss: 0.1464 - accuracy: 0.9488 - val_loss: 0.2597 - val_accuracy: 0.8713\nEpoch 27/100\n70/70 [==============================] - 0s 2ms/step - loss: 0.1108 - accuracy: 0.9680 - val_loss: 0.1626 - val_accuracy: 0.9181\nEpoch 28/100\n70/70 [==============================] - 0s 2ms/step - loss: 0.1345 - accuracy: 0.9497 - val_loss: 0.1585 - val_accuracy: 0.9298\nEpoch 29/100\n70/70 [==============================] - 0s 2ms/step - loss: 0.1511 - accuracy: 0.9586 - val_loss: 0.1627 - val_accuracy: 0.9415\nEpoch 30/100\n70/70 [==============================] - 0s 2ms/step - loss: 0.1636 - accuracy: 0.9506 - val_loss: 0.1512 - val_accuracy: 0.9415\nEpoch 31/100\n70/70 [==============================] - 0s 2ms/step - loss: 0.5787 - accuracy: 0.8133 - val_loss: 0.1405 - val_accuracy: 0.9357\nEpoch 32/100\n70/70 [==============================] - 0s 2ms/step - loss: 0.3181 - accuracy: 0.9116 - val_loss: 0.1510 - val_accuracy: 0.9240\nEpoch 33/100\n70/70 [==============================] - 0s 2ms/step - loss: 0.0901 - accuracy: 0.9749 - val_loss: 0.1376 - val_accuracy: 0.9591\nEpoch 34/100\n70/70 [==============================] - 0s 2ms/step - loss: 0.0890 - accuracy: 0.9540 - val_loss: 0.1406 - val_accuracy: 0.9415\nEpoch 35/100\n70/70 [==============================] - 0s 3ms/step - loss: 0.1090 - accuracy: 0.9727 - val_loss: 0.1282 - val_accuracy: 0.9415\nEpoch 36/100\n70/70 [==============================] - 0s 2ms/step - loss: 0.0605 - accuracy: 0.9858 - val_loss: 0.2790 - val_accuracy: 0.8830\nEpoch 37/100\n70/70 [==============================] - 0s 2ms/step - loss: 0.0852 - accuracy: 0.9728 - val_loss: 0.1979 - val_accuracy: 0.8947\nEpoch 38/100\n70/70 [==============================] - 0s 2ms/step - loss: 0.0619 - accuracy: 0.9807 - val_loss: 0.3470 - val_accuracy: 0.8713\nEpoch 39/100\n70/70 [==============================] - 0s 2ms/step - loss: 0.0580 - accuracy: 0.9808 - val_loss: 0.1271 - val_accuracy: 0.9474\nEpoch 40/100\n70/70 [==============================] - 0s 2ms/step - loss: 0.0611 - accuracy: 0.9712 - val_loss: 0.2519 - val_accuracy: 0.9006\nEpoch 41/100\n70/70 [==============================] - 0s 2ms/step - loss: 0.1055 - accuracy: 0.9669 - val_loss: 0.2198 - val_accuracy: 0.8889\nEpoch 42/100\n70/70 [==============================] - 0s 2ms/step - loss: 0.0513 - accuracy: 0.9802 - val_loss: 0.2255 - val_accuracy: 0.9123\nEpoch 43/100\n70/70 [==============================] - 0s 2ms/step - loss: 0.0581 - accuracy: 0.9860 - val_loss: 0.1102 - val_accuracy: 0.9649\nEpoch 44/100\n70/70 [==============================] - 0s 2ms/step - loss: 0.0696 - accuracy: 0.9676 - val_loss: 0.1758 - val_accuracy: 0.9240\nEpoch 45/100\n70/70 [==============================] - 0s 2ms/step - loss: 0.0504 - accuracy: 0.9897 - val_loss: 0.1649 - val_accuracy: 0.9415\nEpoch 46/100\n70/70 [==============================] - 0s 2ms/step - loss: 0.0440 - accuracy: 0.9868 - val_loss: 0.1364 - val_accuracy: 0.9474\nEpoch 47/100\n70/70 [==============================] - 0s 3ms/step - loss: 0.0827 - accuracy: 0.9705 - val_loss: 0.1865 - val_accuracy: 0.9123\nEpoch 48/100\n70/70 [==============================] - 0s 2ms/step - loss: 0.0548 - accuracy: 0.9773 - val_loss: 0.2531 - val_accuracy: 0.8947\nEpoch 49/100\n70/70 [==============================] - 0s 2ms/step - loss: 0.0672 - accuracy: 0.9790 - val_loss: 0.5161 - val_accuracy: 0.8246\nEpoch 50/100\n70/70 [==============================] - 0s 2ms/step - loss: 0.2617 - accuracy: 0.9518 - val_loss: 0.1836 - val_accuracy: 0.9181\nEpoch 51/100\n70/70 [==============================] - 0s 3ms/step - loss: 0.0838 - accuracy: 0.9685 - val_loss: 0.0963 - val_accuracy: 0.9649\nEpoch 52/100\n70/70 [==============================] - 0s 2ms/step - loss: 0.0924 - accuracy: 0.9806 - val_loss: 0.1251 - val_accuracy: 0.9474\nEpoch 53/100\n70/70 [==============================] - 0s 2ms/step - loss: 0.0581 - accuracy: 0.9772 - val_loss: 0.1205 - val_accuracy: 0.9474\nEpoch 54/100\n70/70 [==============================] - 0s 2ms/step - loss: 0.0640 - accuracy: 0.9649 - val_loss: 0.4157 - val_accuracy: 0.8830\nEpoch 55/100\n70/70 [==============================] - 0s 2ms/step - loss: 0.1055 - accuracy: 0.9775 - val_loss: 0.2340 - val_accuracy: 0.9006\nEpoch 56/100\n70/70 [==============================] - 0s 2ms/step - loss: 0.1039 - accuracy: 0.9614 - val_loss: 0.6115 - val_accuracy: 0.8596\nEpoch 57/100\n70/70 [==============================] - 0s 2ms/step - loss: 0.1006 - accuracy: 0.9666 - val_loss: 0.1406 - val_accuracy: 0.9415\nEpoch 58/100\n70/70 [==============================] - 0s 2ms/step - loss: 0.0447 - accuracy: 0.9845 - val_loss: 0.3895 - val_accuracy: 0.8480\n",
          "name": "stdout"
        },
        {
          "output_type": "stream",
          "text": "Epoch 59/100\n70/70 [==============================] - 0s 2ms/step - loss: 0.1753 - accuracy: 0.9477 - val_loss: 0.1643 - val_accuracy: 0.9415\nEpoch 60/100\n70/70 [==============================] - 0s 2ms/step - loss: 0.0591 - accuracy: 0.9787 - val_loss: 0.1113 - val_accuracy: 0.9474\nEpoch 61/100\n70/70 [==============================] - 0s 2ms/step - loss: 0.0270 - accuracy: 0.9882 - val_loss: 0.1027 - val_accuracy: 0.9591\nEpoch 62/100\n70/70 [==============================] - 0s 2ms/step - loss: 0.0380 - accuracy: 0.9834 - val_loss: 0.0843 - val_accuracy: 0.9649\nEpoch 63/100\n70/70 [==============================] - 0s 2ms/step - loss: 0.0437 - accuracy: 0.9854 - val_loss: 0.1313 - val_accuracy: 0.9415\nEpoch 64/100\n70/70 [==============================] - 0s 2ms/step - loss: 0.0667 - accuracy: 0.9732 - val_loss: 0.0923 - val_accuracy: 0.9591\nEpoch 65/100\n70/70 [==============================] - 0s 2ms/step - loss: 0.0771 - accuracy: 0.9691 - val_loss: 0.0806 - val_accuracy: 0.9649\nEpoch 66/100\n70/70 [==============================] - 0s 2ms/step - loss: 0.0334 - accuracy: 0.9915 - val_loss: 0.0822 - val_accuracy: 0.9708\nEpoch 67/100\n70/70 [==============================] - 0s 3ms/step - loss: 0.0444 - accuracy: 0.9838 - val_loss: 0.0889 - val_accuracy: 0.9474\nEpoch 68/100\n70/70 [==============================] - 0s 2ms/step - loss: 0.0275 - accuracy: 0.9883 - val_loss: 0.1662 - val_accuracy: 0.9357\nEpoch 69/100\n70/70 [==============================] - 0s 2ms/step - loss: 0.1256 - accuracy: 0.9484 - val_loss: 0.2340 - val_accuracy: 0.9123\nEpoch 70/100\n70/70 [==============================] - 0s 2ms/step - loss: 0.0415 - accuracy: 0.9861 - val_loss: 0.1075 - val_accuracy: 0.9532\nEpoch 71/100\n70/70 [==============================] - 0s 2ms/step - loss: 0.0366 - accuracy: 0.9886 - val_loss: 0.1233 - val_accuracy: 0.9415\nEpoch 72/100\n70/70 [==============================] - 0s 2ms/step - loss: 0.1946 - accuracy: 0.9447 - val_loss: 0.1335 - val_accuracy: 0.9357\nEpoch 73/100\n70/70 [==============================] - 0s 2ms/step - loss: 0.0497 - accuracy: 0.9836 - val_loss: 0.1810 - val_accuracy: 0.9415\nEpoch 74/100\n70/70 [==============================] - 0s 2ms/step - loss: 0.0548 - accuracy: 0.9726 - val_loss: 0.2150 - val_accuracy: 0.9240\nEpoch 75/100\n70/70 [==============================] - 0s 2ms/step - loss: 0.0308 - accuracy: 0.9841 - val_loss: 0.1034 - val_accuracy: 0.9415\nEpoch 76/100\n70/70 [==============================] - 0s 2ms/step - loss: 0.0222 - accuracy: 0.9967 - val_loss: 0.0853 - val_accuracy: 0.9649\nEpoch 77/100\n70/70 [==============================] - 0s 2ms/step - loss: 0.0372 - accuracy: 0.9862 - val_loss: 0.1303 - val_accuracy: 0.9415\nEpoch 78/100\n70/70 [==============================] - 0s 2ms/step - loss: 0.0322 - accuracy: 0.9803 - val_loss: 0.0926 - val_accuracy: 0.9649\nEpoch 79/100\n70/70 [==============================] - 0s 3ms/step - loss: 0.0388 - accuracy: 0.9771 - val_loss: 0.0895 - val_accuracy: 0.9591\nEpoch 80/100\n70/70 [==============================] - 0s 2ms/step - loss: 0.0381 - accuracy: 0.9825 - val_loss: 0.2148 - val_accuracy: 0.9240\nEpoch 81/100\n70/70 [==============================] - 0s 2ms/step - loss: 0.0150 - accuracy: 0.9966 - val_loss: 0.0974 - val_accuracy: 0.9649\nEpoch 82/100\n70/70 [==============================] - 0s 3ms/step - loss: 0.0453 - accuracy: 0.9905 - val_loss: 0.0998 - val_accuracy: 0.9591\nEpoch 83/100\n70/70 [==============================] - 0s 2ms/step - loss: 0.0194 - accuracy: 0.9958 - val_loss: 0.1246 - val_accuracy: 0.9357\nEpoch 84/100\n70/70 [==============================] - 0s 2ms/step - loss: 0.0404 - accuracy: 0.9810 - val_loss: 0.2412 - val_accuracy: 0.9181\nEpoch 85/100\n70/70 [==============================] - 0s 2ms/step - loss: 0.0660 - accuracy: 0.9771 - val_loss: 0.1745 - val_accuracy: 0.9357\nEpoch 86/100\n70/70 [==============================] - 0s 2ms/step - loss: 0.0335 - accuracy: 0.9903 - val_loss: 0.1323 - val_accuracy: 0.9474\nEpoch 87/100\n70/70 [==============================] - 0s 3ms/step - loss: 0.0311 - accuracy: 0.9855 - val_loss: 0.1253 - val_accuracy: 0.9532\nEpoch 88/100\n70/70 [==============================] - 0s 2ms/step - loss: 0.1024 - accuracy: 0.9764 - val_loss: 0.1473 - val_accuracy: 0.9415\nEpoch 89/100\n70/70 [==============================] - 0s 2ms/step - loss: 0.0105 - accuracy: 0.9983 - val_loss: 0.2203 - val_accuracy: 0.9123\nEpoch 90/100\n70/70 [==============================] - 0s 2ms/step - loss: 0.1371 - accuracy: 0.9615 - val_loss: 0.2330 - val_accuracy: 0.9123\nEpoch 91/100\n70/70 [==============================] - 0s 2ms/step - loss: 0.0583 - accuracy: 0.9718 - val_loss: 0.1115 - val_accuracy: 0.9474\nEpoch 92/100\n70/70 [==============================] - 0s 2ms/step - loss: 0.0442 - accuracy: 0.9769 - val_loss: 0.0747 - val_accuracy: 0.9766\nEpoch 93/100\n70/70 [==============================] - 0s 2ms/step - loss: 0.0156 - accuracy: 0.9914 - val_loss: 0.1770 - val_accuracy: 0.9415\nEpoch 94/100\n70/70 [==============================] - 0s 2ms/step - loss: 0.1250 - accuracy: 0.9456 - val_loss: 0.0736 - val_accuracy: 0.9708\nEpoch 95/100\n70/70 [==============================] - 0s 3ms/step - loss: 0.0233 - accuracy: 0.9893 - val_loss: 0.1013 - val_accuracy: 0.9591\nEpoch 96/100\n70/70 [==============================] - 0s 2ms/step - loss: 0.1806 - accuracy: 0.9636 - val_loss: 0.7880 - val_accuracy: 0.8713\nEpoch 97/100\n70/70 [==============================] - 0s 2ms/step - loss: 0.2950 - accuracy: 0.9388 - val_loss: 0.1008 - val_accuracy: 0.9474\nEpoch 98/100\n70/70 [==============================] - 0s 2ms/step - loss: 0.0230 - accuracy: 0.9844 - val_loss: 0.0702 - val_accuracy: 0.9708\nEpoch 99/100\n70/70 [==============================] - 0s 3ms/step - loss: 0.0370 - accuracy: 0.9880 - val_loss: 0.1978 - val_accuracy: 0.9357\nEpoch 100/100\n70/70 [==============================] - 0s 2ms/step - loss: 0.0299 - accuracy: 0.9869 - val_loss: 0.1181 - val_accuracy: 0.9532\n",
          "name": "stdout"
        },
        {
          "output_type": "execute_result",
          "execution_count": 14,
          "data": {
            "text/plain": "<tensorflow.python.keras.callbacks.History at 0x2448fd7caf0>"
          },
          "metadata": {}
        }
      ]
    },
    {
      "metadata": {
        "trusted": true
      },
      "cell_type": "code",
      "source": "scores=model.evaluate(x,y)\nprint(\"%s: %.2f%%\" % (model.metrics_names[1], scores[1]*100))",
      "execution_count": 15,
      "outputs": [
        {
          "output_type": "stream",
          "text": "17/17 [==============================] - 0s 1ms/step - loss: 0.0642 - accuracy: 0.9749\naccuracy: 97.49%\n",
          "name": "stdout"
        }
      ]
    },
    {
      "metadata": {},
      "cell_type": "markdown",
      "source": "# The dataset contains 36733 instances of 11 sensor measures aggregated over one hour (by means of average or sum) from a gas turbine."
    },
    {
      "metadata": {
        "trusted": true
      },
      "cell_type": "code",
      "source": "gs=pd.read_csv(\"gas_turbines.csv\")\ngs",
      "execution_count": 16,
      "outputs": [
        {
          "output_type": "execute_result",
          "execution_count": 16,
          "data": {
            "text/plain": "           AT      AP      AH    AFDP    GTEP     TIT     TAT     TEY     CDP  \\\n0      6.8594  1007.9  96.799  3.5000  19.663  1059.2  550.00  114.70  10.605   \n1      6.7850  1008.4  97.118  3.4998  19.728  1059.3  550.00  114.72  10.598   \n2      6.8977  1008.8  95.939  3.4824  19.779  1059.4  549.87  114.71  10.601   \n3      7.0569  1009.2  95.249  3.4805  19.792  1059.6  549.99  114.72  10.606   \n4      7.3978  1009.7  95.150  3.4976  19.765  1059.7  549.98  114.72  10.612   \n...       ...     ...     ...     ...     ...     ...     ...     ...     ...   \n15034  9.0301  1005.6  98.460  3.5421  19.164  1049.7  546.21  111.61  10.400   \n15035  7.8879  1005.9  99.093  3.5059  19.414  1046.3  543.22  111.78  10.433   \n15036  7.2647  1006.3  99.496  3.4770  19.530  1037.7  537.32  110.19  10.483   \n15037  7.0060  1006.8  99.008  3.4486  19.377  1043.2  541.24  110.74  10.533   \n15038  6.9279  1007.2  97.533  3.4275  19.306  1049.9  545.85  111.58  10.583   \n\n           CO     NOX  \n0      3.1547  82.722  \n1      3.2363  82.776  \n2      3.2012  82.468  \n3      3.1923  82.670  \n4      3.2484  82.311  \n...       ...     ...  \n15034  4.5186  79.559  \n15035  4.8470  79.917  \n15036  7.9632  90.912  \n15037  6.2494  93.227  \n15038  4.9816  92.498  \n\n[15039 rows x 11 columns]",
            "text/html": "<div>\n<style scoped>\n    .dataframe tbody tr th:only-of-type {\n        vertical-align: middle;\n    }\n\n    .dataframe tbody tr th {\n        vertical-align: top;\n    }\n\n    .dataframe thead th {\n        text-align: right;\n    }\n</style>\n<table border=\"1\" class=\"dataframe\">\n  <thead>\n    <tr style=\"text-align: right;\">\n      <th></th>\n      <th>AT</th>\n      <th>AP</th>\n      <th>AH</th>\n      <th>AFDP</th>\n      <th>GTEP</th>\n      <th>TIT</th>\n      <th>TAT</th>\n      <th>TEY</th>\n      <th>CDP</th>\n      <th>CO</th>\n      <th>NOX</th>\n    </tr>\n  </thead>\n  <tbody>\n    <tr>\n      <th>0</th>\n      <td>6.8594</td>\n      <td>1007.9</td>\n      <td>96.799</td>\n      <td>3.5000</td>\n      <td>19.663</td>\n      <td>1059.2</td>\n      <td>550.00</td>\n      <td>114.70</td>\n      <td>10.605</td>\n      <td>3.1547</td>\n      <td>82.722</td>\n    </tr>\n    <tr>\n      <th>1</th>\n      <td>6.7850</td>\n      <td>1008.4</td>\n      <td>97.118</td>\n      <td>3.4998</td>\n      <td>19.728</td>\n      <td>1059.3</td>\n      <td>550.00</td>\n      <td>114.72</td>\n      <td>10.598</td>\n      <td>3.2363</td>\n      <td>82.776</td>\n    </tr>\n    <tr>\n      <th>2</th>\n      <td>6.8977</td>\n      <td>1008.8</td>\n      <td>95.939</td>\n      <td>3.4824</td>\n      <td>19.779</td>\n      <td>1059.4</td>\n      <td>549.87</td>\n      <td>114.71</td>\n      <td>10.601</td>\n      <td>3.2012</td>\n      <td>82.468</td>\n    </tr>\n    <tr>\n      <th>3</th>\n      <td>7.0569</td>\n      <td>1009.2</td>\n      <td>95.249</td>\n      <td>3.4805</td>\n      <td>19.792</td>\n      <td>1059.6</td>\n      <td>549.99</td>\n      <td>114.72</td>\n      <td>10.606</td>\n      <td>3.1923</td>\n      <td>82.670</td>\n    </tr>\n    <tr>\n      <th>4</th>\n      <td>7.3978</td>\n      <td>1009.7</td>\n      <td>95.150</td>\n      <td>3.4976</td>\n      <td>19.765</td>\n      <td>1059.7</td>\n      <td>549.98</td>\n      <td>114.72</td>\n      <td>10.612</td>\n      <td>3.2484</td>\n      <td>82.311</td>\n    </tr>\n    <tr>\n      <th>...</th>\n      <td>...</td>\n      <td>...</td>\n      <td>...</td>\n      <td>...</td>\n      <td>...</td>\n      <td>...</td>\n      <td>...</td>\n      <td>...</td>\n      <td>...</td>\n      <td>...</td>\n      <td>...</td>\n    </tr>\n    <tr>\n      <th>15034</th>\n      <td>9.0301</td>\n      <td>1005.6</td>\n      <td>98.460</td>\n      <td>3.5421</td>\n      <td>19.164</td>\n      <td>1049.7</td>\n      <td>546.21</td>\n      <td>111.61</td>\n      <td>10.400</td>\n      <td>4.5186</td>\n      <td>79.559</td>\n    </tr>\n    <tr>\n      <th>15035</th>\n      <td>7.8879</td>\n      <td>1005.9</td>\n      <td>99.093</td>\n      <td>3.5059</td>\n      <td>19.414</td>\n      <td>1046.3</td>\n      <td>543.22</td>\n      <td>111.78</td>\n      <td>10.433</td>\n      <td>4.8470</td>\n      <td>79.917</td>\n    </tr>\n    <tr>\n      <th>15036</th>\n      <td>7.2647</td>\n      <td>1006.3</td>\n      <td>99.496</td>\n      <td>3.4770</td>\n      <td>19.530</td>\n      <td>1037.7</td>\n      <td>537.32</td>\n      <td>110.19</td>\n      <td>10.483</td>\n      <td>7.9632</td>\n      <td>90.912</td>\n    </tr>\n    <tr>\n      <th>15037</th>\n      <td>7.0060</td>\n      <td>1006.8</td>\n      <td>99.008</td>\n      <td>3.4486</td>\n      <td>19.377</td>\n      <td>1043.2</td>\n      <td>541.24</td>\n      <td>110.74</td>\n      <td>10.533</td>\n      <td>6.2494</td>\n      <td>93.227</td>\n    </tr>\n    <tr>\n      <th>15038</th>\n      <td>6.9279</td>\n      <td>1007.2</td>\n      <td>97.533</td>\n      <td>3.4275</td>\n      <td>19.306</td>\n      <td>1049.9</td>\n      <td>545.85</td>\n      <td>111.58</td>\n      <td>10.583</td>\n      <td>4.9816</td>\n      <td>92.498</td>\n    </tr>\n  </tbody>\n</table>\n<p>15039 rows × 11 columns</p>\n</div>"
          },
          "metadata": {}
        }
      ]
    },
    {
      "metadata": {
        "trusted": true
      },
      "cell_type": "code",
      "source": "gs1=gs.values\ngs1",
      "execution_count": 17,
      "outputs": [
        {
          "output_type": "execute_result",
          "execution_count": 17,
          "data": {
            "text/plain": "array([[   6.8594, 1007.9   ,   96.799 , ...,   10.605 ,    3.1547,\n          82.722 ],\n       [   6.785 , 1008.4   ,   97.118 , ...,   10.598 ,    3.2363,\n          82.776 ],\n       [   6.8977, 1008.8   ,   95.939 , ...,   10.601 ,    3.2012,\n          82.468 ],\n       ...,\n       [   7.2647, 1006.3   ,   99.496 , ...,   10.483 ,    7.9632,\n          90.912 ],\n       [   7.006 , 1006.8   ,   99.008 , ...,   10.533 ,    6.2494,\n          93.227 ],\n       [   6.9279, 1007.2   ,   97.533 , ...,   10.583 ,    4.9816,\n          92.498 ]])"
          },
          "metadata": {}
        }
      ]
    },
    {
      "metadata": {
        "trusted": true
      },
      "cell_type": "code",
      "source": "X=gs1[:,[0,1,2,3,4,5,6,8,9,10]]\nY=gs1[:,-4]\nX",
      "execution_count": 18,
      "outputs": [
        {
          "output_type": "execute_result",
          "execution_count": 18,
          "data": {
            "text/plain": "array([[   6.8594, 1007.9   ,   96.799 , ...,   10.605 ,    3.1547,\n          82.722 ],\n       [   6.785 , 1008.4   ,   97.118 , ...,   10.598 ,    3.2363,\n          82.776 ],\n       [   6.8977, 1008.8   ,   95.939 , ...,   10.601 ,    3.2012,\n          82.468 ],\n       ...,\n       [   7.2647, 1006.3   ,   99.496 , ...,   10.483 ,    7.9632,\n          90.912 ],\n       [   7.006 , 1006.8   ,   99.008 , ...,   10.533 ,    6.2494,\n          93.227 ],\n       [   6.9279, 1007.2   ,   97.533 , ...,   10.583 ,    4.9816,\n          92.498 ]])"
          },
          "metadata": {}
        }
      ]
    },
    {
      "metadata": {
        "trusted": true
      },
      "cell_type": "code",
      "source": "from sklearn.model_selection import train_test_split",
      "execution_count": 19,
      "outputs": []
    },
    {
      "metadata": {
        "trusted": true
      },
      "cell_type": "code",
      "source": "x_train, x_test, y_train, y_test = train_test_split(X,Y,test_size=0.25,random_state=101)",
      "execution_count": 20,
      "outputs": []
    },
    {
      "metadata": {
        "trusted": true
      },
      "cell_type": "code",
      "source": "from sklearn.preprocessing import MinMaxScaler",
      "execution_count": 21,
      "outputs": []
    },
    {
      "metadata": {
        "trusted": true
      },
      "cell_type": "code",
      "source": "scaler=MinMaxScaler()\nscaler.fit(x_train)\n",
      "execution_count": 22,
      "outputs": [
        {
          "output_type": "execute_result",
          "execution_count": 22,
          "data": {
            "text/plain": "MinMaxScaler()"
          },
          "metadata": {}
        }
      ]
    },
    {
      "metadata": {
        "trusted": true
      },
      "cell_type": "code",
      "source": "x_train=scaler.transform(x_train)\nx_test=scaler.transform(x_test)\nx_test",
      "execution_count": 23,
      "outputs": [
        {
          "output_type": "execute_result",
          "execution_count": 23,
          "data": {
            "text/plain": "array([[0.35890393, 0.40602285, 0.91801706, ..., 0.34107329, 0.03084967,\n        0.48475958],\n       [0.55162803, 0.59086189, 0.72785444, ..., 0.42819611, 0.02833486,\n        0.43366477],\n       [0.69430373, 0.53478712, 0.55215014, ..., 0.14847583, 0.15186537,\n        0.33822331],\n       ...,\n       [0.29923532, 0.48494289, 0.94876603, ..., 0.77514199, 0.00101504,\n        0.41400706],\n       [0.64399376, 0.35825545, 0.50904718, ..., 0.04705791, 0.10100297,\n        0.36756316],\n       [0.3486443 , 0.24340602, 0.81637941, ..., 0.34416412, 0.00787964,\n        0.54170062]])"
          },
          "metadata": {}
        }
      ]
    },
    {
      "metadata": {
        "trusted": true
      },
      "cell_type": "code",
      "source": "model = Sequential()\nmodel.add(Dense(10, activation='relu'))\nmodel.add(Dense(10, activation='relu'))\nmodel.add(Dense(10, activation='relu'))\n# add nodes for prediction\nmodel.add(Dense(1))",
      "execution_count": 24,
      "outputs": []
    },
    {
      "metadata": {
        "trusted": true
      },
      "cell_type": "code",
      "source": "model.compile(optimizer='rmsprop',loss='mse')",
      "execution_count": 25,
      "outputs": []
    },
    {
      "metadata": {
        "trusted": true
      },
      "cell_type": "code",
      "source": "# Fit the model\nmodel.fit(x_train, y_train, epochs=250)",
      "execution_count": 26,
      "outputs": [
        {
          "output_type": "stream",
          "text": "Epoch 1/250\n353/353 [==============================] - 1s 893us/step - loss: 16706.4358\nEpoch 2/250\n353/353 [==============================] - 0s 843us/step - loss: 1280.1191\nEpoch 3/250\n353/353 [==============================] - 0s 840us/step - loss: 34.5055\nEpoch 4/250\n353/353 [==============================] - 0s 852us/step - loss: 24.4014\nEpoch 5/250\n353/353 [==============================] - 0s 853us/step - loss: 17.3246\nEpoch 6/250\n353/353 [==============================] - 0s 834us/step - loss: 12.6862\nEpoch 7/250\n353/353 [==============================] - 0s 825us/step - loss: 8.9782\nEpoch 8/250\n353/353 [==============================] - 0s 962us/step - loss: 6.9313\nEpoch 9/250\n353/353 [==============================] - 0s 870us/step - loss: 5.1744\nEpoch 10/250\n353/353 [==============================] - 0s 832us/step - loss: 4.5002\nEpoch 11/250\n353/353 [==============================] - 0s 841us/step - loss: 4.0524\nEpoch 12/250\n353/353 [==============================] - 0s 832us/step - loss: 3.6507\nEpoch 13/250\n353/353 [==============================] - 0s 843us/step - loss: 3.4939\nEpoch 14/250\n353/353 [==============================] - 0s 870us/step - loss: 3.1293\nEpoch 15/250\n353/353 [==============================] - 0s 885us/step - loss: 3.0100\nEpoch 16/250\n353/353 [==============================] - 0s 850us/step - loss: 2.8349\nEpoch 17/250\n353/353 [==============================] - 0s 900us/step - loss: 2.6941\nEpoch 18/250\n353/353 [==============================] - 0s 831us/step - loss: 2.6030\nEpoch 19/250\n353/353 [==============================] - 0s 844us/step - loss: 2.4846\nEpoch 20/250\n353/353 [==============================] - 0s 874us/step - loss: 2.3664\nEpoch 21/250\n353/353 [==============================] - 0s 850us/step - loss: 2.2680\nEpoch 22/250\n353/353 [==============================] - 0s 832us/step - loss: 2.2288\nEpoch 23/250\n353/353 [==============================] - 0s 832us/step - loss: 2.1111\nEpoch 24/250\n353/353 [==============================] - 0s 851us/step - loss: 2.0341\nEpoch 25/250\n353/353 [==============================] - 0s 847us/step - loss: 1.9053\nEpoch 26/250\n353/353 [==============================] - 0s 907us/step - loss: 1.8013\nEpoch 27/250\n353/353 [==============================] - 0s 826us/step - loss: 1.7636\nEpoch 28/250\n353/353 [==============================] - 0s 841us/step - loss: 1.7732\nEpoch 29/250\n353/353 [==============================] - 0s 858us/step - loss: 1.7523\nEpoch 30/250\n353/353 [==============================] - 0s 845us/step - loss: 1.6564\nEpoch 31/250\n353/353 [==============================] - 0s 833us/step - loss: 1.5810\nEpoch 32/250\n353/353 [==============================] - 0s 907us/step - loss: 1.5874\nEpoch 33/250\n353/353 [==============================] - 0s 878us/step - loss: 1.4952\nEpoch 34/250\n353/353 [==============================] - 0s 857us/step - loss: 1.4707\nEpoch 35/250\n353/353 [==============================] - 0s 1ms/step - loss: 1.3887\nEpoch 36/250\n353/353 [==============================] - 0s 951us/step - loss: 1.3629\nEpoch 37/250\n353/353 [==============================] - 0s 1ms/step - loss: 1.3574\nEpoch 38/250\n353/353 [==============================] - 0s 979us/step - loss: 1.3650\nEpoch 39/250\n353/353 [==============================] - 0s 995us/step - loss: 1.2807\nEpoch 40/250\n353/353 [==============================] - 0s 841us/step - loss: 1.3020\nEpoch 41/250\n353/353 [==============================] - 0s 837us/step - loss: 1.1754\nEpoch 42/250\n353/353 [==============================] - 0s 884us/step - loss: 1.1707\nEpoch 43/250\n353/353 [==============================] - 0s 994us/step - loss: 1.1628\nEpoch 44/250\n353/353 [==============================] - 0s 841us/step - loss: 1.1315\nEpoch 45/250\n353/353 [==============================] - 0s 921us/step - loss: 1.0997\nEpoch 46/250\n353/353 [==============================] - 0s 960us/step - loss: 1.1120 0s - loss: \nEpoch 47/250\n353/353 [==============================] - 0s 823us/step - loss: 1.1472\nEpoch 48/250\n353/353 [==============================] - 0s 833us/step - loss: 1.1308\nEpoch 49/250\n353/353 [==============================] - 0s 916us/step - loss: 1.1021\nEpoch 50/250\n353/353 [==============================] - 0s 918us/step - loss: 1.0555\nEpoch 51/250\n353/353 [==============================] - 0s 997us/step - loss: 1.0896\nEpoch 52/250\n353/353 [==============================] - 0s 920us/step - loss: 1.0231\nEpoch 53/250\n353/353 [==============================] - 0s 844us/step - loss: 1.0371\nEpoch 54/250\n353/353 [==============================] - 0s 824us/step - loss: 1.0551\nEpoch 55/250\n353/353 [==============================] - 0s 819us/step - loss: 1.0351\nEpoch 56/250\n353/353 [==============================] - 0s 820us/step - loss: 0.9855\nEpoch 57/250\n353/353 [==============================] - 0s 835us/step - loss: 1.0532\nEpoch 58/250\n353/353 [==============================] - 0s 1ms/step - loss: 1.0149\nEpoch 59/250\n353/353 [==============================] - 0s 803us/step - loss: 1.0190\nEpoch 60/250\n353/353 [==============================] - 0s 899us/step - loss: 1.0129\nEpoch 61/250\n353/353 [==============================] - 0s 1ms/step - loss: 0.9559\nEpoch 62/250\n353/353 [==============================] - 0s 846us/step - loss: 1.0196\nEpoch 63/250\n353/353 [==============================] - 0s 854us/step - loss: 0.9814\nEpoch 64/250\n353/353 [==============================] - 0s 828us/step - loss: 0.9728\nEpoch 65/250\n353/353 [==============================] - 0s 854us/step - loss: 0.9702\nEpoch 66/250\n353/353 [==============================] - 0s 846us/step - loss: 0.9556\nEpoch 67/250\n353/353 [==============================] - 0s 872us/step - loss: 1.0009\nEpoch 68/250\n353/353 [==============================] - 0s 837us/step - loss: 0.9528\nEpoch 69/250\n353/353 [==============================] - 0s 859us/step - loss: 0.9465\nEpoch 70/250\n353/353 [==============================] - 0s 847us/step - loss: 0.9363\nEpoch 71/250\n353/353 [==============================] - 0s 979us/step - loss: 0.9277\nEpoch 72/250\n353/353 [==============================] - 0s 882us/step - loss: 0.9376\nEpoch 73/250\n353/353 [==============================] - 0s 836us/step - loss: 0.9332\nEpoch 74/250\n353/353 [==============================] - 0s 953us/step - loss: 0.9683\nEpoch 75/250\n353/353 [==============================] - 0s 874us/step - loss: 0.9249\nEpoch 76/250\n353/353 [==============================] - 0s 861us/step - loss: 0.9283\nEpoch 77/250\n353/353 [==============================] - 0s 833us/step - loss: 0.9725\nEpoch 78/250\n353/353 [==============================] - 0s 840us/step - loss: 0.9351\nEpoch 79/250\n353/353 [==============================] - 0s 896us/step - loss: 0.9356\nEpoch 80/250\n353/353 [==============================] - 0s 857us/step - loss: 0.9041\nEpoch 81/250\n353/353 [==============================] - 0s 799us/step - loss: 0.9249\nEpoch 82/250\n353/353 [==============================] - 0s 829us/step - loss: 0.9155\nEpoch 83/250\n353/353 [==============================] - 0s 1ms/step - loss: 0.8727\nEpoch 84/250\n353/353 [==============================] - 0s 860us/step - loss: 0.9766\nEpoch 85/250\n353/353 [==============================] - 0s 838us/step - loss: 0.9044\nEpoch 86/250\n353/353 [==============================] - 0s 1ms/step - loss: 0.8995\nEpoch 87/250\n353/353 [==============================] - 0s 961us/step - loss: 0.9067\nEpoch 88/250\n353/353 [==============================] - 0s 849us/step - loss: 0.9010\nEpoch 89/250\n353/353 [==============================] - 0s 896us/step - loss: 0.8929\nEpoch 90/250\n353/353 [==============================] - 0s 848us/step - loss: 0.9047\nEpoch 91/250\n353/353 [==============================] - 0s 844us/step - loss: 0.9437\nEpoch 92/250\n353/353 [==============================] - 0s 833us/step - loss: 0.8850\nEpoch 93/250\n353/353 [==============================] - 0s 849us/step - loss: 0.8799\nEpoch 94/250\n353/353 [==============================] - 0s 874us/step - loss: 0.9042\nEpoch 95/250\n353/353 [==============================] - 0s 904us/step - loss: 0.8859\nEpoch 96/250\n353/353 [==============================] - 0s 840us/step - loss: 0.9054\nEpoch 97/250\n",
          "name": "stdout"
        },
        {
          "output_type": "stream",
          "text": "353/353 [==============================] - 0s 825us/step - loss: 0.9108\nEpoch 98/250\n353/353 [==============================] - 0s 816us/step - loss: 0.8730\nEpoch 99/250\n353/353 [==============================] - 0s 817us/step - loss: 0.8409\nEpoch 100/250\n353/353 [==============================] - 0s 819us/step - loss: 0.8840\nEpoch 101/250\n353/353 [==============================] - 0s 819us/step - loss: 0.8409\nEpoch 102/250\n353/353 [==============================] - 0s 856us/step - loss: 0.8523\nEpoch 103/250\n353/353 [==============================] - 0s 1ms/step - loss: 0.9104\nEpoch 104/250\n353/353 [==============================] - 0s 1ms/step - loss: 0.8995\nEpoch 105/250\n353/353 [==============================] - 0s 1ms/step - loss: 0.8817\nEpoch 106/250\n353/353 [==============================] - 0s 1ms/step - loss: 0.8561\nEpoch 107/250\n353/353 [==============================] - 0s 815us/step - loss: 0.8509\nEpoch 108/250\n353/353 [==============================] - 0s 893us/step - loss: 0.8602\nEpoch 109/250\n353/353 [==============================] - 0s 840us/step - loss: 0.8482\nEpoch 110/250\n353/353 [==============================] - 0s 868us/step - loss: 0.8710\nEpoch 111/250\n353/353 [==============================] - 0s 811us/step - loss: 0.8475\nEpoch 112/250\n353/353 [==============================] - 0s 935us/step - loss: 0.8491\nEpoch 113/250\n353/353 [==============================] - 0s 1ms/step - loss: 0.8647\nEpoch 114/250\n353/353 [==============================] - 0s 1ms/step - loss: 0.8237\nEpoch 115/250\n353/353 [==============================] - 0s 1ms/step - loss: 0.8609\nEpoch 116/250\n353/353 [==============================] - 0s 1ms/step - loss: 0.8630\nEpoch 117/250\n353/353 [==============================] - 0s 995us/step - loss: 0.8565\nEpoch 118/250\n353/353 [==============================] - 0s 975us/step - loss: 0.8440\nEpoch 119/250\n353/353 [==============================] - 0s 852us/step - loss: 0.8707\nEpoch 120/250\n353/353 [==============================] - 0s 833us/step - loss: 0.8430\nEpoch 121/250\n353/353 [==============================] - 0s 986us/step - loss: 0.8474\nEpoch 122/250\n353/353 [==============================] - 0s 853us/step - loss: 0.8307\nEpoch 123/250\n353/353 [==============================] - 0s 867us/step - loss: 0.8471\nEpoch 124/250\n353/353 [==============================] - 0s 969us/step - loss: 0.8470\nEpoch 125/250\n353/353 [==============================] - 0s 857us/step - loss: 0.8242\nEpoch 126/250\n353/353 [==============================] - 0s 841us/step - loss: 0.8930\nEpoch 127/250\n353/353 [==============================] - 0s 921us/step - loss: 0.8154\nEpoch 128/250\n353/353 [==============================] - 0s 908us/step - loss: 0.8247 0s - loss: \nEpoch 129/250\n353/353 [==============================] - 0s 918us/step - loss: 0.8503\nEpoch 130/250\n353/353 [==============================] - 0s 885us/step - loss: 0.8396\nEpoch 131/250\n353/353 [==============================] - 0s 838us/step - loss: 0.8462\nEpoch 132/250\n353/353 [==============================] - 0s 870us/step - loss: 0.7911\nEpoch 133/250\n353/353 [==============================] - 0s 876us/step - loss: 0.8210\nEpoch 134/250\n353/353 [==============================] - 0s 833us/step - loss: 0.8365\nEpoch 135/250\n353/353 [==============================] - 0s 822us/step - loss: 0.8607\nEpoch 136/250\n353/353 [==============================] - 0s 1ms/step - loss: 0.7962\nEpoch 137/250\n353/353 [==============================] - 0s 917us/step - loss: 0.8407\nEpoch 138/250\n353/353 [==============================] - 0s 906us/step - loss: 0.8111\nEpoch 139/250\n353/353 [==============================] - 0s 1ms/step - loss: 0.8526\nEpoch 140/250\n353/353 [==============================] - 0s 943us/step - loss: 0.8178\nEpoch 141/250\n353/353 [==============================] - 0s 847us/step - loss: 0.8623\nEpoch 142/250\n353/353 [==============================] - 0s 817us/step - loss: 0.8006\nEpoch 143/250\n353/353 [==============================] - 0s 858us/step - loss: 0.8193\nEpoch 144/250\n353/353 [==============================] - 0s 1ms/step - loss: 0.8201\nEpoch 145/250\n353/353 [==============================] - 0s 869us/step - loss: 0.8142\nEpoch 146/250\n353/353 [==============================] - 0s 836us/step - loss: 0.8138\nEpoch 147/250\n353/353 [==============================] - 0s 1ms/step - loss: 0.8098\nEpoch 148/250\n353/353 [==============================] - 0s 805us/step - loss: 0.8389\nEpoch 149/250\n353/353 [==============================] - 0s 855us/step - loss: 0.8206\nEpoch 150/250\n353/353 [==============================] - 0s 851us/step - loss: 0.8409\nEpoch 151/250\n353/353 [==============================] - 0s 812us/step - loss: 0.8360\nEpoch 152/250\n353/353 [==============================] - 0s 853us/step - loss: 0.8138\nEpoch 153/250\n353/353 [==============================] - 0s 871us/step - loss: 0.8478\nEpoch 154/250\n353/353 [==============================] - 0s 955us/step - loss: 0.8128\nEpoch 155/250\n353/353 [==============================] - 0s 867us/step - loss: 0.8295\nEpoch 156/250\n353/353 [==============================] - 0s 819us/step - loss: 0.7986\nEpoch 157/250\n353/353 [==============================] - 0s 810us/step - loss: 0.8299\nEpoch 158/250\n353/353 [==============================] - 0s 816us/step - loss: 0.8308\nEpoch 159/250\n353/353 [==============================] - 0s 938us/step - loss: 0.7951\nEpoch 160/250\n353/353 [==============================] - 0s 825us/step - loss: 0.7998\nEpoch 161/250\n353/353 [==============================] - 0s 884us/step - loss: 0.7966\nEpoch 162/250\n353/353 [==============================] - 0s 949us/step - loss: 0.8105\nEpoch 163/250\n353/353 [==============================] - 0s 856us/step - loss: 0.8613\nEpoch 164/250\n353/353 [==============================] - 0s 847us/step - loss: 0.7999\nEpoch 165/250\n353/353 [==============================] - 0s 867us/step - loss: 0.8178\nEpoch 166/250\n353/353 [==============================] - 0s 918us/step - loss: 0.8414\nEpoch 167/250\n353/353 [==============================] - 0s 938us/step - loss: 0.7792\nEpoch 168/250\n353/353 [==============================] - 0s 890us/step - loss: 0.7885\nEpoch 169/250\n353/353 [==============================] - 0s 882us/step - loss: 0.8192\nEpoch 170/250\n353/353 [==============================] - 0s 1ms/step - loss: 0.8290\nEpoch 171/250\n353/353 [==============================] - 0s 980us/step - loss: 0.8018\nEpoch 172/250\n353/353 [==============================] - 0s 887us/step - loss: 0.8445\nEpoch 173/250\n353/353 [==============================] - 0s 984us/step - loss: 0.8203\nEpoch 174/250\n353/353 [==============================] - 0s 877us/step - loss: 0.7936\nEpoch 175/250\n353/353 [==============================] - 0s 890us/step - loss: 0.7929\nEpoch 176/250\n353/353 [==============================] - 0s 993us/step - loss: 0.9059\nEpoch 177/250\n353/353 [==============================] - 0s 1ms/step - loss: 0.8055\nEpoch 178/250\n353/353 [==============================] - 0s 1ms/step - loss: 0.7899\nEpoch 179/250\n353/353 [==============================] - 0s 812us/step - loss: 0.7555\nEpoch 180/250\n353/353 [==============================] - 0s 888us/step - loss: 0.8037\nEpoch 181/250\n353/353 [==============================] - 0s 1ms/step - loss: 0.8042\nEpoch 182/250\n353/353 [==============================] - 0s 834us/step - loss: 0.8030\nEpoch 183/250\n353/353 [==============================] - 0s 820us/step - loss: 0.8110\nEpoch 184/250\n353/353 [==============================] - 0s 926us/step - loss: 0.8036\nEpoch 185/250\n353/353 [==============================] - 0s 829us/step - loss: 0.7991\nEpoch 186/250\n353/353 [==============================] - 0s 879us/step - loss: 0.8256\nEpoch 187/250\n353/353 [==============================] - 0s 932us/step - loss: 0.8128\nEpoch 188/250\n353/353 [==============================] - 0s 873us/step - loss: 0.7787\nEpoch 189/250\n353/353 [==============================] - 0s 902us/step - loss: 0.7769\nEpoch 190/250\n353/353 [==============================] - 0s 1ms/step - loss: 0.7650\nEpoch 191/250\n353/353 [==============================] - 0s 985us/step - loss: 0.7677\nEpoch 192/250\n",
          "name": "stdout"
        },
        {
          "output_type": "stream",
          "text": "353/353 [==============================] - 0s 889us/step - loss: 0.8151\nEpoch 193/250\n353/353 [==============================] - 0s 874us/step - loss: 0.7705\nEpoch 194/250\n353/353 [==============================] - 0s 917us/step - loss: 0.7844\nEpoch 195/250\n353/353 [==============================] - 0s 896us/step - loss: 0.7894\nEpoch 196/250\n353/353 [==============================] - 0s 808us/step - loss: 0.8112\nEpoch 197/250\n353/353 [==============================] - 0s 825us/step - loss: 0.8000\nEpoch 198/250\n353/353 [==============================] - 0s 824us/step - loss: 0.8093\nEpoch 199/250\n353/353 [==============================] - 0s 817us/step - loss: 0.7885\nEpoch 200/250\n353/353 [==============================] - 0s 830us/step - loss: 0.8070\nEpoch 201/250\n353/353 [==============================] - 0s 840us/step - loss: 0.7753\nEpoch 202/250\n353/353 [==============================] - 0s 832us/step - loss: 0.8238\nEpoch 203/250\n353/353 [==============================] - 0s 948us/step - loss: 0.7863\nEpoch 204/250\n353/353 [==============================] - 0s 827us/step - loss: 0.8091\nEpoch 205/250\n353/353 [==============================] - 0s 816us/step - loss: 0.8166\nEpoch 206/250\n353/353 [==============================] - 0s 925us/step - loss: 0.8259\nEpoch 207/250\n353/353 [==============================] - 0s 815us/step - loss: 0.7738\nEpoch 208/250\n353/353 [==============================] - 0s 811us/step - loss: 0.7865\nEpoch 209/250\n353/353 [==============================] - 0s 829us/step - loss: 0.8343\nEpoch 210/250\n353/353 [==============================] - 0s 829us/step - loss: 0.8256\nEpoch 211/250\n353/353 [==============================] - 0s 928us/step - loss: 0.7917\nEpoch 212/250\n353/353 [==============================] - 0s 897us/step - loss: 0.7827\nEpoch 213/250\n353/353 [==============================] - 0s 830us/step - loss: 0.7862\nEpoch 214/250\n353/353 [==============================] - 0s 841us/step - loss: 0.8096\nEpoch 215/250\n353/353 [==============================] - 0s 870us/step - loss: 0.7795\nEpoch 216/250\n353/353 [==============================] - 0s 820us/step - loss: 0.7877\nEpoch 217/250\n353/353 [==============================] - 0s 844us/step - loss: 0.7659\nEpoch 218/250\n353/353 [==============================] - 0s 834us/step - loss: 0.7623\nEpoch 219/250\n353/353 [==============================] - 0s 813us/step - loss: 0.7996\nEpoch 220/250\n353/353 [==============================] - 0s 956us/step - loss: 0.7927\nEpoch 221/250\n353/353 [==============================] - 0s 856us/step - loss: 0.7917\nEpoch 222/250\n353/353 [==============================] - 0s 969us/step - loss: 0.7855\nEpoch 223/250\n353/353 [==============================] - 0s 960us/step - loss: 0.7970\nEpoch 224/250\n353/353 [==============================] - 0s 955us/step - loss: 0.7861\nEpoch 225/250\n353/353 [==============================] - 0s 902us/step - loss: 0.7952\nEpoch 226/250\n353/353 [==============================] - 0s 809us/step - loss: 0.8697\nEpoch 227/250\n353/353 [==============================] - 0s 828us/step - loss: 0.7918\nEpoch 228/250\n353/353 [==============================] - 0s 893us/step - loss: 0.7545\nEpoch 229/250\n353/353 [==============================] - 0s 888us/step - loss: 0.7944\nEpoch 230/250\n353/353 [==============================] - 0s 828us/step - loss: 0.7982\nEpoch 231/250\n353/353 [==============================] - 0s 885us/step - loss: 0.7527\nEpoch 232/250\n353/353 [==============================] - 0s 892us/step - loss: 0.7889\nEpoch 233/250\n353/353 [==============================] - 0s 812us/step - loss: 0.7886\nEpoch 234/250\n353/353 [==============================] - 0s 878us/step - loss: 0.7430\nEpoch 235/250\n353/353 [==============================] - 0s 858us/step - loss: 0.7819\nEpoch 236/250\n353/353 [==============================] - 0s 839us/step - loss: 0.7652\nEpoch 237/250\n353/353 [==============================] - 0s 967us/step - loss: 0.7538\nEpoch 238/250\n353/353 [==============================] - 0s 814us/step - loss: 0.7678\nEpoch 239/250\n353/353 [==============================] - 0s 816us/step - loss: 0.7608\nEpoch 240/250\n353/353 [==============================] - 0s 970us/step - loss: 0.7858\nEpoch 241/250\n353/353 [==============================] - 0s 815us/step - loss: 0.7588\nEpoch 242/250\n353/353 [==============================] - 0s 812us/step - loss: 0.7710\nEpoch 243/250\n353/353 [==============================] - 0s 872us/step - loss: 0.7939\nEpoch 244/250\n353/353 [==============================] - 0s 901us/step - loss: 0.7758\nEpoch 245/250\n353/353 [==============================] - 0s 906us/step - loss: 0.7382\nEpoch 246/250\n353/353 [==============================] - 0s 911us/step - loss: 0.7574\nEpoch 247/250\n353/353 [==============================] - 0s 816us/step - loss: 0.7632\nEpoch 248/250\n353/353 [==============================] - 0s 867us/step - loss: 0.7797\nEpoch 249/250\n353/353 [==============================] - 0s 907us/step - loss: 0.7940\nEpoch 250/250\n353/353 [==============================] - 0s 811us/step - loss: 0.8093\n",
          "name": "stdout"
        },
        {
          "output_type": "execute_result",
          "execution_count": 26,
          "data": {
            "text/plain": "<tensorflow.python.keras.callbacks.History at 0x24492826c40>"
          },
          "metadata": {}
        }
      ]
    },
    {
      "metadata": {
        "trusted": true
      },
      "cell_type": "code",
      "source": "%matplotlib inline\nimport matplotlib as plot\nmodel_loss = pd.DataFrame(model.history.history)\nmodel_loss.plot()",
      "execution_count": 27,
      "outputs": [
        {
          "output_type": "execute_result",
          "execution_count": 27,
          "data": {
            "text/plain": "<AxesSubplot:>"
          },
          "metadata": {}
        },
        {
          "output_type": "display_data",
          "data": {
            "text/plain": "<Figure size 432x288 with 1 Axes>",
            "image/png": "[encoded data removed]"
          },
          "metadata": {
            "needs_background": "light"
          }
        }
      ]
    },
    {
      "metadata": {
        "trusted": true
      },
      "cell_type": "code",
      "source": "pred = model.predict(x_test)",
      "execution_count": 28,
      "outputs": []
    },
    {
      "metadata": {
        "trusted": true
      },
      "cell_type": "code",
      "source": "pred",
      "execution_count": 29,
      "outputs": [
        {
          "output_type": "execute_result",
          "execution_count": 29,
          "data": {
            "text/plain": "array([[131.20926],\n       [132.3917 ],\n       [109.84866],\n       ...,\n       [158.75648],\n       [103.47058],\n       [131.48462]], dtype=float32)"
          },
          "metadata": {}
        }
      ]
    },
    {
      "metadata": {
        "trusted": true
      },
      "cell_type": "code",
      "source": "pred = pred.ravel()",
      "execution_count": 30,
      "outputs": []
    },
    {
      "metadata": {
        "trusted": true
      },
      "cell_type": "code",
      "source": "test_score = model.evaluate(x_test,y_test,verbose=0)\ntest_score",
      "execution_count": 31,
      "outputs": [
        {
          "output_type": "execute_result",
          "execution_count": 31,
          "data": {
            "text/plain": "2.381887674331665"
          },
          "metadata": {}
        }
      ]
    },
    {
      "metadata": {
        "trusted": true
      },
      "cell_type": "code",
      "source": "from sklearn.metrics import mean_absolute_error,mean_squared_error",
      "execution_count": 32,
      "outputs": []
    },
    {
      "metadata": {
        "trusted": true
      },
      "cell_type": "code",
      "source": "mean_absolute_error(pred,y_test)",
      "execution_count": 33,
      "outputs": [
        {
          "output_type": "execute_result",
          "execution_count": 33,
          "data": {
            "text/plain": "1.4094993262595321"
          },
          "metadata": {}
        }
      ]
    },
    {
      "metadata": {
        "trusted": true
      },
      "cell_type": "code",
      "source": "mean_squared_error(pred,y_test)",
      "execution_count": 34,
      "outputs": [
        {
          "output_type": "execute_result",
          "execution_count": 34,
          "data": {
            "text/plain": "2.381887263458778"
          },
          "metadata": {}
        }
      ]
    },
    {
      "metadata": {
        "trusted": true
      },
      "cell_type": "code",
      "source": "import matplotlib.pyplot as plt",
      "execution_count": 35,
      "outputs": []
    },
    {
      "metadata": {
        "trusted": true
      },
      "cell_type": "code",
      "source": "plt.scatter(y_test,pred)",
      "execution_count": 36,
      "outputs": [
        {
          "output_type": "execute_result",
          "execution_count": 36,
          "data": {
            "text/plain": "<matplotlib.collections.PathCollection at 0x244949d7370>"
          },
          "metadata": {}
        },
        {
          "output_type": "display_data",
          "data": {
            "text/plain": "<Figure size 432x288 with 1 Axes>",
            "image/png": "[encoded data removed]"
          },
          "metadata": {
            "needs_background": "light"
          }
        }
      ]
    },
    {
      "metadata": {
        "trusted": true
      },
      "cell_type": "code",
      "source": "",
      "execution_count": null,
      "outputs": []
    },
    {
      "metadata": {
        "trusted": true
      },
      "cell_type": "code",
      "source": "",
      "execution_count": null,
      "outputs": []
    },
    {
      "metadata": {
        "trusted": true
      },
      "cell_type": "code",
      "source": "",
      "execution_count": null,
      "outputs": []
    }
  ],
  "metadata": {
    "kernelspec": {
      "name": "python3",
      "display_name": "Python 3",
      "language": "python"
    },
    "language_info": {
      "name": "python",
      "version": "3.8.5",
      "mimetype": "text/x-python",
      "codemirror_mode": {
        "name": "ipython",
        "version": 3
      },
      "pygments_lexer": "ipython3",
      "nbconvert_exporter": "python",
      "file_extension": ".py"
    },
    "gist": {
      "id": "05607e85e8da05f57becd8ff1045eeb2",
      "data": {
        "description": " neural networking assigment.ipynb",
        "public": true
      }
    },
    "_draft": {
      "nbviewer_url": "https://gist.github.com/05607e85e8da05f57becd8ff1045eeb2"
    }
  },
  "nbformat": 4,
  "nbformat_minor": 4
}